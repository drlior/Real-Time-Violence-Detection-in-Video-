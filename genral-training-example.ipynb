{
 "cells": [
  {
   "cell_type": "code",
   "execution_count": 6,
   "source": [
    "from __future__ import absolute_import\n",
    "from __future__  import division\n",
    "from __future__ import print_function\n",
    "import tensorflow as tf\n",
    "import numpy as np\n",
    "from skimage.io import imread\n",
    "from skimage.transform import resize\n",
    "import cv2\n",
    "import numpy as np\n",
    "import pandas as pd\n",
    "import matplotlib.pyplot as plt\n"
   ],
   "outputs": [],
   "metadata": {}
  },
  {
   "cell_type": "code",
   "execution_count": 7,
   "source": [
    "import os"
   ],
   "outputs": [],
   "metadata": {}
  },
  {
   "cell_type": "code",
   "execution_count": 8,
   "source": [
    "fights_train = np.zeros((700, 40, 160, 160, 3), dtype=np.float)\n",
    "labels_train = []"
   ],
   "outputs": [],
   "metadata": {}
  },
  {
   "cell_type": "code",
   "execution_count": 9,
   "source": [
    "def capture(filename):\n",
    "    frames = np.zeros((40, 160, 160, 3), dtype=np.float)\n",
    "    i=0\n",
    "    vc = cv2.VideoCapture(filename)\n",
    "    if vc.isOpened():\n",
    "        rval , frame = vc.read()\n",
    "    else:\n",
    "        rval = False\n",
    "    #frm = cv2.resize(frame,(200,200))\n",
    "    frm = resize(frame,(160, 160, 3))\n",
    "    frm = np.expand_dims(frm,axis=0)\n",
    "    if(np.max(frm)>1):\n",
    "        frm = frm/255.0\n",
    "    frames[i][:] = frm\n",
    "    i +=1\n",
    "    while i < 40:\n",
    "        rval, frame = vc.read()\n",
    "        #print(i)\n",
    "        #plt.imshow(frame)\n",
    "        #plt.show()\n",
    "        #frm = cv2.resize(frame,(200,200))\n",
    "        frm = resize(frame,(160, 160, 3))\n",
    "        frm = np.expand_dims(frm,axis=0)\n",
    "        if(np.max(frm)>1):\n",
    "            frm = frm/255.0\n",
    "        frames[i][:] = frm\n",
    "        i +=1\n",
    "        #print(frame)\n",
    "    return frames\n",
    "\n",
    "def cut_save(main_dir, mod, fights_val=None):\n",
    "    i = 0\n",
    "    #fights = np.zeros((399, 40, 200, 200, 3), dtype=np.float)\n",
    "    #noFights = np.zeros((599, 42, 200, 200, 3), dtype=np.float)\n",
    "    for x in os.listdir(main_dir):\n",
    "        if 1 == 1:\n",
    "            td = main_dir+x+'/'\n",
    "            #for y in os.listdir(main_dir+x+'/'):\n",
    "                #print(y)\n",
    "            for file in os.listdir(td):\n",
    "                fl = os.path.join(td, file)\n",
    "                videos = capture(fl)\n",
    "                if mod == 'train':\n",
    "                    fights_train[i][:][:] = videos\n",
    "                    i +=1\n",
    "                    if x =='fights':\n",
    "                        labels_train.append(1)\n",
    "                    else:\n",
    "                        labels_train.append(0)\n",
    "                elif mod =='test':\n",
    "                    fights_test[i][:][:] = videos\n",
    "                    i +=1\n",
    "                    if x =='fights':\n",
    "                        labels_test.append(1)\n",
    "                    else:\n",
    "                        labels_test.append(0)\n",
    "                elif mod =='val':\n",
    "                    fights_val[i][:][:] = videos\n",
    "                    i +=1\n",
    "                    #if x =='fights':\n",
    "                    #    labels_val.append(1)\n",
    "                    #else:\n",
    "                    #    labels_val.append(0)"
   ],
   "outputs": [],
   "metadata": {}
  },
  {
   "cell_type": "code",
   "execution_count": 10,
   "source": [
    "cut_save('./trainm/',\"train\")"
   ],
   "outputs": [
    {
     "ename": "FileNotFoundError",
     "evalue": "[Errno 2] No such file or directory: './trainm/'",
     "output_type": "error",
     "traceback": [
      "\u001B[0;31m---------------------------------------------------------------------------\u001B[0m",
      "\u001B[0;31mFileNotFoundError\u001B[0m                         Traceback (most recent call last)",
      "\u001B[0;32m<ipython-input-10-f065e15862db>\u001B[0m in \u001B[0;36m<module>\u001B[0;34m\u001B[0m\n\u001B[0;32m----> 1\u001B[0;31m \u001B[0mcut_save\u001B[0m\u001B[0;34m(\u001B[0m\u001B[0;34m'./trainm/'\u001B[0m\u001B[0;34m,\u001B[0m\u001B[0;34m\"train\"\u001B[0m\u001B[0;34m)\u001B[0m\u001B[0;34m\u001B[0m\u001B[0;34m\u001B[0m\u001B[0m\n\u001B[0m\u001B[1;32m      2\u001B[0m \u001B[0;34m\u001B[0m\u001B[0m\n",
      "\u001B[0;32m<ipython-input-9-292efba4ecd6>\u001B[0m in \u001B[0;36mcut_save\u001B[0;34m(main_dir, mod, fights_val)\u001B[0m\n\u001B[1;32m     33\u001B[0m     \u001B[0;31m#fights = np.zeros((399, 40, 200, 200, 3), dtype=np.float)\u001B[0m\u001B[0;34m\u001B[0m\u001B[0;34m\u001B[0m\u001B[0;34m\u001B[0m\u001B[0m\n\u001B[1;32m     34\u001B[0m     \u001B[0;31m#noFights = np.zeros((599, 42, 200, 200, 3), dtype=np.float)\u001B[0m\u001B[0;34m\u001B[0m\u001B[0;34m\u001B[0m\u001B[0;34m\u001B[0m\u001B[0m\n\u001B[0;32m---> 35\u001B[0;31m     \u001B[0;32mfor\u001B[0m \u001B[0mx\u001B[0m \u001B[0;32min\u001B[0m \u001B[0mos\u001B[0m\u001B[0;34m.\u001B[0m\u001B[0mlistdir\u001B[0m\u001B[0;34m(\u001B[0m\u001B[0mmain_dir\u001B[0m\u001B[0;34m)\u001B[0m\u001B[0;34m:\u001B[0m\u001B[0;34m\u001B[0m\u001B[0;34m\u001B[0m\u001B[0m\n\u001B[0m\u001B[1;32m     36\u001B[0m         \u001B[0;32mif\u001B[0m \u001B[0;36m1\u001B[0m \u001B[0;34m==\u001B[0m \u001B[0;36m1\u001B[0m\u001B[0;34m:\u001B[0m\u001B[0;34m\u001B[0m\u001B[0;34m\u001B[0m\u001B[0m\n\u001B[1;32m     37\u001B[0m             \u001B[0mtd\u001B[0m \u001B[0;34m=\u001B[0m \u001B[0mmain_dir\u001B[0m\u001B[0;34m+\u001B[0m\u001B[0mx\u001B[0m\u001B[0;34m+\u001B[0m\u001B[0;34m'/'\u001B[0m\u001B[0;34m\u001B[0m\u001B[0;34m\u001B[0m\u001B[0m\n",
      "\u001B[0;31mFileNotFoundError\u001B[0m: [Errno 2] No such file or directory: './trainm/'"
     ]
    }
   ],
   "metadata": {}
  },
  {
   "cell_type": "code",
   "execution_count": null,
   "source": [
    "fights_train.shape"
   ],
   "outputs": [],
   "metadata": {}
  },
  {
   "cell_type": "code",
   "execution_count": null,
   "source": [
    "from sklearn.model_selection import train_test_split"
   ],
   "outputs": [],
   "metadata": {}
  },
  {
   "cell_type": "code",
   "execution_count": null,
   "source": [
    "X_train, fights_test, y_train, labels_test = train_test_split(fights_train,labels_train, test_size=0.33, random_state=42)"
   ],
   "outputs": [],
   "metadata": {
    "collapsed": true
   }
  },
  {
   "cell_type": "code",
   "execution_count": null,
   "source": [
    "fights_train = []"
   ],
   "outputs": [],
   "metadata": {
    "collapsed": true
   }
  },
  {
   "cell_type": "code",
   "execution_count": null,
   "source": [
    "fights_test= np.zeros((300, 40, 160, 160, 3), dtype=np.float)\r\n",
    "labels_test = []"
   ],
   "outputs": [],
   "metadata": {}
  },
  {
   "cell_type": "code",
   "execution_count": null,
   "source": [
    "cut_save('./testm/',\"test\")"
   ],
   "outputs": [],
   "metadata": {}
  },
  {
   "cell_type": "code",
   "execution_count": null,
   "source": [
    "plt.imshow(fights_test[19][5])\r\n",
    "plt.show()"
   ],
   "outputs": [],
   "metadata": {}
  },
  {
   "cell_type": "code",
   "execution_count": null,
   "source": [
    "layers = tf.keras.layers\r\n",
    "models = tf.keras.models\r\n",
    "losses = tf.keras.losses\r\n",
    "optimizers = tf.keras.optimizers \r\n",
    "metrics = tf.keras.metrics\r\n",
    "utils = tf.keras.utils\r\n",
    "callbacks = tf.keras.callbacks\r\n",
    "layers = tf.keras.layers\r\n",
    "models = tf.keras.models\r\n",
    "ImageDataGenerator = tf.keras.preprocessing.image.ImageDataGenerator\r\n",
    "losses = tf.keras.losses\r\n",
    "optimizers = tf.keras.optimizers \r\n",
    "metrics = tf.keras.metrics\r\n",
    "utils = tf.keras.utils\r\n",
    "callbacks = tf.keras.callbacks\r\n",
    "\r\n",
    "plot_model = tf.keras.utils.plot_model"
   ],
   "outputs": [],
   "metadata": {}
  },
  {
   "cell_type": "code",
   "execution_count": null,
   "source": [
    "np.random.seed(1234)\r\n",
    "num_classes = 2"
   ],
   "outputs": [],
   "metadata": {}
  },
  {
   "cell_type": "code",
   "execution_count": null,
   "source": [
    "np.random.seed(1234)\r\n",
    "num_classes = 2\r\n",
    "vg19 = tf.keras.applications.vgg19.VGG19\r\n",
    "base_model = vg19(include_top=False,weights='imagenet',input_shape=(160, 160,3))\r\n",
    "# Freeze the layers except the last 4 layers\r\n",
    "for layer in base_model.layers:\r\n",
    "    layer.trainable = False\r\n",
    "# Check the trainable status of the individual layers\r\n",
    "base_model.summary()"
   ],
   "outputs": [],
   "metadata": {}
  },
  {
   "cell_type": "code",
   "execution_count": null,
   "source": [
    "num_classes = 2\r\n",
    "\r\n",
    "cnn = models.Sequential()\r\n",
    "cnn.add(base_model)\r\n",
    "cnn.add(layers.Flatten())\r\n",
    "#cnn.add(layers.Dense(1024, activation='relu'))\r\n",
    "#cnn.add(layers.Dropout(0.3))\r\n",
    "#cnn.add(layers.Dense(512, activation='relu'))\r\n",
    "#cnn.add(layers.Dropout(0.3))\r\n",
    "#cnn.add(layers.LSTM(40))\r\n",
    "\r\n",
    "# define LSTM model\r\n",
    "model = models.Sequential()\r\n",
    "\r\n",
    "model.add(layers.TimeDistributed(cnn,  input_shape=(40, 160, 160, 3)))\r\n",
    "model.add(layers.LSTM(40 , return_sequences=True))\r\n",
    "\r\n",
    "#model.add(layers.Dense(num_classes, activation=\"sigmoid\"))\r\n",
    "#model.add(layers.Dropout(0.3))\r\n",
    "\r\n",
    "model.add(layers.TimeDistributed(layers.Dense(160, activation='relu')))\r\n",
    "\r\n",
    "model.add(layers.GlobalAveragePooling1D(name=\"globale\"))\r\n",
    "\r\n",
    "'''\r\n",
    "model.add(layers.Dense(1024, activation='relu'))\r\n",
    "model.add(layers.Dropout(0.3))\r\n",
    "model.add(layers.Dense(512, activation='relu'))\r\n",
    "model.add(layers.Dropout(0.3))\r\n",
    "'''\r\n",
    "model.add(layers.Dense(num_classes, activation=\"sigmoid\" , name=\"last\"))\r\n",
    "\r\n",
    "adam = optimizers.Adam(lr=0.0005, beta_1=0.9, beta_2=0.999, epsilon=1e-08)\r\n",
    "model.load_weights('mamon98777.hdf5')\r\n",
    "rms = optimizers.RMSprop()\r\n",
    "model.compile(loss='binary_crossentropy', optimizer=adam, metrics=[\"accuracy\"])\r\n",
    "model.summary()"
   ],
   "outputs": [],
   "metadata": {}
  },
  {
   "cell_type": "code",
   "execution_count": null,
   "source": [
    "\r\n",
    "class AccuracyHistory(callbacks.Callback):\r\n",
    "    def on_train_begin(self, logs={}):\r\n",
    "        self.acc = []\r\n",
    "        self.val_acc = []\r\n",
    "        self.loss = []\r\n",
    "        self.val_loss = []\r\n",
    "\r\n",
    "    def on_epoch_end(self, batch, logs={}):\r\n",
    "        self.acc.append(logs.get('acc'))\r\n",
    "        self.val_acc.append(logs.get('val_acc'))\r\n",
    "        self.loss.append(logs.get('loss'))\r\n",
    "        self.val_loss.append(logs.get('val_loss'))\r\n",
    "\r\n",
    "history = AccuracyHistory()\r\n",
    "earlyStopping = callbacks.EarlyStopping(monitor='val_loss', patience=8,min_delta=1e-5, verbose=0, mode='min')\r\n",
    "mcp_save = callbacks.ModelCheckpoint('mamon98777.hdf5', save_best_only=True, monitor='val_loss', mode='min')\r\n",
    "reduce_lr_loss = callbacks.ReduceLROnPlateau(monitor='val_loss',patience=1, verbose=2,factor=0.5,min_lr=0.0000001)\r\n"
   ],
   "outputs": [],
   "metadata": {
    "collapsed": true
   }
  },
  {
   "cell_type": "code",
   "execution_count": null,
   "source": [
    "batch_size =3\r\n",
    "epochs = 10"
   ],
   "outputs": [],
   "metadata": {
    "collapsed": true
   }
  },
  {
   "cell_type": "code",
   "execution_count": null,
   "source": [
    "y_train = utils.to_categorical(labels_train)\r\n",
    "print(y_train)"
   ],
   "outputs": [],
   "metadata": {}
  },
  {
   "cell_type": "code",
   "execution_count": null,
   "source": [
    "y_test = utils.to_categorical(labels_test)\r\n",
    "print(y_test)"
   ],
   "outputs": [],
   "metadata": {}
  },
  {
   "cell_type": "code",
   "execution_count": null,
   "source": [
    "import time\r\n",
    "millis = int(round(time.time() * 1000))\r\n",
    "print(\"started at \" , millis)\r\n",
    "\r\n",
    "model.fit(fights_train, y_train,\r\n",
    "          batch_size=batch_size,\r\n",
    "          epochs=epochs,\r\n",
    "          verbose=1,\r\n",
    "          validation_data=(fights_test, y_test),callbacks=[earlyStopping, mcp_save, reduce_lr_loss,history])\r\n",
    "\r\n",
    "#0.8995 4"
   ],
   "outputs": [],
   "metadata": {}
  },
  {
   "cell_type": "code",
   "execution_count": null,
   "source": [
    "fights_test = []"
   ],
   "outputs": [],
   "metadata": {
    "collapsed": true
   }
  },
  {
   "cell_type": "code",
   "execution_count": null,
   "source": [
    "acc = history.acc\r\n",
    "val_acc = history.val_acc\r\n",
    "loss = history.loss\r\n",
    "val_loss = history.val_loss\r\n",
    "epochs = range(len(acc))\r\n",
    "\r\n",
    "plt.plot(epochs, acc, 'b', label='Training acc')\r\n",
    "plt.plot(epochs, val_acc, 'r', label='Validation acc')\r\n",
    "plt.title('Training and validation accuracy')\r\n",
    "plt.legend()\r\n",
    " \r\n",
    "plt.figure()\r\n",
    "\r\n",
    "plt.plot(epochs, loss, 'b', label='Training loss')\r\n",
    "plt.plot(epochs, val_loss, 'r', label='Validation loss')\r\n",
    "plt.title('Training and validation loss')\r\n",
    "plt.legend()\r\n",
    " \r\n",
    "plt.show()"
   ],
   "outputs": [],
   "metadata": {}
  },
  {
   "cell_type": "code",
   "execution_count": 11,
   "source": [
    "fights_train = []"
   ],
   "outputs": [],
   "metadata": {
    "collapsed": true
   }
  },
  {
   "cell_type": "code",
   "execution_count": 12,
   "source": [
    "score = model.evaluate(fights_test, y_test, batch_size=3)\n",
    "score"
   ],
   "outputs": [
    {
     "ename": "NameError",
     "evalue": "name 'model' is not defined",
     "output_type": "error",
     "traceback": [
      "\u001B[0;31m---------------------------------------------------------------------------\u001B[0m",
      "\u001B[0;31mNameError\u001B[0m                                 Traceback (most recent call last)",
      "\u001B[0;32m<ipython-input-12-433d289c0478>\u001B[0m in \u001B[0;36m<module>\u001B[0;34m\u001B[0m\n\u001B[0;32m----> 1\u001B[0;31m \u001B[0mscore\u001B[0m \u001B[0;34m=\u001B[0m \u001B[0mmodel\u001B[0m\u001B[0;34m.\u001B[0m\u001B[0mevaluate\u001B[0m\u001B[0;34m(\u001B[0m\u001B[0mfights_test\u001B[0m\u001B[0;34m,\u001B[0m \u001B[0my_test\u001B[0m\u001B[0;34m,\u001B[0m \u001B[0mbatch_size\u001B[0m\u001B[0;34m=\u001B[0m\u001B[0;36m3\u001B[0m\u001B[0;34m)\u001B[0m\u001B[0;34m\u001B[0m\u001B[0;34m\u001B[0m\u001B[0m\n\u001B[0m\u001B[1;32m      2\u001B[0m \u001B[0mscore\u001B[0m\u001B[0;34m\u001B[0m\u001B[0;34m\u001B[0m\u001B[0m\n\u001B[1;32m      3\u001B[0m \u001B[0;34m\u001B[0m\u001B[0m\n",
      "\u001B[0;31mNameError\u001B[0m: name 'model' is not defined"
     ]
    }
   ],
   "metadata": {}
  },
  {
   "cell_type": "code",
   "execution_count": null,
   "source": [
    "from sklearn.metrics import classification_report, confusion_matrix\n"
   ],
   "outputs": [],
   "metadata": {}
  },
  {
   "cell_type": "code",
   "execution_count": null,
   "source": [
    "import pandas as pd\r\n",
    "import matplotlib.pyplot as plt\r\n",
    "import seaborn as sns\r\n",
    "\r\n",
    "def print_confusion_matrix(confusion_matrix, class_names, figsize = (10,7), fontsize=14):\r\n",
    "    df_cm = pd.DataFrame(\r\n",
    "        confusion_matrix, index=class_names, columns=class_names, \r\n",
    "    )\r\n",
    "    fig = plt.figure(figsize=figsize)\r\n",
    "    try:\r\n",
    "        heatmap = sns.heatmap(df_cm, annot=True, fmt=\"d\")\r\n",
    "    except ValueError:\r\n",
    "        raise ValueError(\"Confusion matrix values must be integers.\")\r\n",
    "    heatmap.yaxis.set_ticklabels(heatmap.yaxis.get_ticklabels(), rotation=0, ha='right', fontsize=fontsize)\r\n",
    "    heatmap.xaxis.set_ticklabels(heatmap.xaxis.get_ticklabels(), rotation=45, ha='right', fontsize=fontsize)\r\n",
    "    plt.ylabel('True label')\r\n",
    "    plt.xlabel('Predicted label')\r\n",
    "    return fig"
   ],
   "outputs": [],
   "metadata": {}
  },
  {
   "cell_type": "code",
   "execution_count": null,
   "source": [
    "Y_pred = model.predict(fights_test , batch_size=1)"
   ],
   "outputs": [],
   "metadata": {}
  },
  {
   "cell_type": "code",
   "execution_count": null,
   "source": [
    "yprd = Y_pred > 0.5\r\n",
    "yprd"
   ],
   "outputs": [],
   "metadata": {}
  },
  {
   "cell_type": "code",
   "execution_count": null,
   "source": [
    "ypredicted = []\r\n",
    "for zero,one in yprd:\r\n",
    "    if zero == True:\r\n",
    "        ypredicted.append(0)\r\n",
    "    else:\r\n",
    "        ypredicted.append(1) "
   ],
   "outputs": [],
   "metadata": {}
  },
  {
   "cell_type": "code",
   "execution_count": null,
   "source": [
    "ypredicted"
   ],
   "outputs": [],
   "metadata": {}
  },
  {
   "cell_type": "code",
   "execution_count": null,
   "source": [
    "y_test"
   ],
   "outputs": [],
   "metadata": {}
  },
  {
   "cell_type": "code",
   "execution_count": null,
   "source": [
    "y = []\r\n",
    "\r\n",
    "for zero,one in y_test:\r\n",
    "    if zero == True:\r\n",
    "        y.append(0)\r\n",
    "    else:\r\n",
    "        y.append(1) "
   ],
   "outputs": [],
   "metadata": {}
  },
  {
   "cell_type": "code",
   "execution_count": null,
   "source": [
    "confusion = confusion_matrix(y,ypredicted)\r\n",
    "confusion.shape"
   ],
   "outputs": [],
   "metadata": {}
  },
  {
   "cell_type": "code",
   "execution_count": null,
   "source": [
    "print_confusion_matrix(confusion, [0,1], figsize = (30,15), fontsize=16)"
   ],
   "outputs": [],
   "metadata": {}
  },
  {
   "cell_type": "code",
   "execution_count": null,
   "source": [
    "print('Classification Report')\r\n",
    "print(classification_report(y, ypredicted, target_names=['no-violance','violance']))"
   ],
   "outputs": [],
   "metadata": {}
  },
  {
   "cell_type": "code",
   "execution_count": null,
   "source": [
    "model.save(\"mamonbest980hocky.hdfs\")"
   ],
   "outputs": [],
   "metadata": {
    "collapsed": true
   }
  }
 ],
 "metadata": {
  "kernelspec": {
   "display_name": "Python 3",
   "language": "python",
   "name": "python3"
  },
  "language_info": {
   "codemirror_mode": {
    "name": "ipython",
    "version": 3
   },
   "file_extension": ".py",
   "mimetype": "text/x-python",
   "name": "python",
   "nbconvert_exporter": "python",
   "pygments_lexer": "ipython3",
   "version": "3.7.5"
  }
 },
 "nbformat": 4,
 "nbformat_minor": 2
}